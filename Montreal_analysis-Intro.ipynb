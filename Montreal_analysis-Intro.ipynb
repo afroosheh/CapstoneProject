{
    "cells": [
        {
            "metadata": {},
            "cell_type": "markdown",
            "source": "# Classification of Montreal Metro stations\u00b6"
        },
        {
            "metadata": {},
            "cell_type": "markdown",
            "source": "## Introduction"
        },
        {
            "metadata": {},
            "cell_type": "markdown",
            "source": "\nMontreal Metro has 68 stations and has one of North America's busiest public transportation systems with, after New York, the largest number of users compared to its population. In 2018, more than 1.3 million people using metro system in Montreal daily.\nThe Montreal Metro is Canada's second busiest rapid transit system. Besdie, considering the Montreal urban environment and society, for any bussiness it is so crucial to consider underground system to locate the bussiness.\nFor this project, the neighborhoods surrounding metro stations will be classified. Some neighborhoods are mostly residential, some have more business or commercial spaces surrounding them. The venues closest to a station determine why and how people use it, e.g. if there are no professional places in a neighborhood its residents are likely to travel to other areas for work. This creates daily migrations of people.\nBy analyzing this data we can classify stations by primary usage. This data is useful for city planners to determine where from and where to people are most likely to travel for work and leisure. This can help plan further extension of the network and find places for new development."
        },
        {
            "metadata": {},
            "cell_type": "code",
            "source": "",
            "execution_count": null,
            "outputs": []
        }
    ],
    "metadata": {
        "kernelspec": {
            "name": "python3",
            "display_name": "Python 3.6",
            "language": "python"
        },
        "language_info": {
            "name": "python",
            "version": "3.6.9",
            "mimetype": "text/x-python",
            "codemirror_mode": {
                "name": "ipython",
                "version": 3
            },
            "pygments_lexer": "ipython3",
            "nbconvert_exporter": "python",
            "file_extension": ".py"
        }
    },
    "nbformat": 4,
    "nbformat_minor": 1
}